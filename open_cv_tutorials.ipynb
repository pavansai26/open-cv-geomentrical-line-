{
  "nbformat": 4,
  "nbformat_minor": 0,
  "metadata": {
    "colab": {
      "name": "open cv tutorials.ipynb",
      "provenance": [],
      "private_outputs": true,
      "include_colab_link": true
    },
    "kernelspec": {
      "name": "python3",
      "display_name": "Python 3"
    }
  },
  "cells": [
    {
      "cell_type": "markdown",
      "metadata": {
        "id": "view-in-github",
        "colab_type": "text"
      },
      "source": [
        "<a href=\"https://colab.research.google.com/github/pavansai26/open-cv-geomentrical-line-/blob/master/open_cv_tutorials.ipynb\" target=\"_parent\"><img src=\"https://colab.research.google.com/assets/colab-badge.svg\" alt=\"Open In Colab\"/></a>"
      ]
    },
    {
      "cell_type": "code",
      "metadata": {
        "id": "-6RhvTwjlC_F",
        "colab_type": "code",
        "colab": {}
      },
      "source": [
        ""
      ],
      "execution_count": 0,
      "outputs": []
    },
    {
      "cell_type": "markdown",
      "metadata": {
        "id": "ukBDJzJ5lYzm",
        "colab_type": "text"
      },
      "source": [
        "**alexnet model**"
      ]
    },
    {
      "cell_type": "code",
      "metadata": {
        "id": "AZDPRmiolcn8",
        "colab_type": "code",
        "colab": {}
      },
      "source": [
        "import numpy as np\n",
        "import matplotlib.pyplot as plt\n",
        "import os\n",
        "import cv2\n",
        "from tqdm import tqdm"
      ],
      "execution_count": 0,
      "outputs": []
    },
    {
      "cell_type": "code",
      "metadata": {
        "id": "-3UsRzFylj4j",
        "colab_type": "code",
        "colab": {}
      },
      "source": [
        "import tensorflow as tf"
      ],
      "execution_count": 0,
      "outputs": []
    },
    {
      "cell_type": "code",
      "metadata": {
        "id": "52jR75o5lkMO",
        "colab_type": "code",
        "colab": {}
      },
      "source": [
        "model1=tf.keras.models.Sequential([tf.keras.layers.Conv2D(96,(11,11),activation='relu',strides=4,\n",
        "                                                          input_shape=(ip.shape[1:])),\n",
        "                                 tf.keras.layers.MaxPooling2D((3,3),strides=2),\n",
        "                                 tf.keras.layers.Conv2D(256,(5,5),activation='relu',stride=4),\n",
        "                                 tf.keras.layers.MaxPooling2D((3,3),strides=2),\n",
        "                                 tf.keras.layers.Conv2D(384,(3,3),activation='relu',strides=4),\n",
        "                                 tf.keras.layers.Conv2D(384,(3,3),activation='relu',strides=4),\n",
        "                                 tf.keras.layers.Conv2D(256,(3,3),activation='relu',stride=4)\n",
        "                                 tf.keras.layers.MaxPooling2D((3,3),strides=2),\n",
        "                                 tf.keras.layers.Flatten(),\n",
        "                                 tf.keras.layers.Dense(4096,activation=tf.nn.relu),\n",
        "                                 tf.keras.layers.Dropout(0.1),\n",
        "                                 tf.keras.layers.Dense(4096,activation=tf.nn.relu),\n",
        "                                 tf.keras.layers.Dense(1000,activation='softmax')])\n",
        "\n",
        "                                 \n"
      ],
      "execution_count": 0,
      "outputs": []
    },
    {
      "cell_type": "code",
      "metadata": {
        "id": "I3VmByG3lkd_",
        "colab_type": "code",
        "colab": {}
      },
      "source": [
        "import cv2\n",
        "print(cv2.__version__)\n",
        "from google.colab.patches import cv2_imshow"
      ],
      "execution_count": 0,
      "outputs": []
    },
    {
      "cell_type": "code",
      "metadata": {
        "id": "TWVcTvD0lkvt",
        "colab_type": "code",
        "colab": {}
      },
      "source": [
        "def main():\n",
        "  print(cv2.__version__)\n",
        "if __name__ == '__main__':\n",
        "  \n"
      ],
      "execution_count": 0,
      "outputs": []
    },
    {
      "cell_type": "code",
      "metadata": {
        "id": "ZPo03VjeQF8M",
        "colab_type": "code",
        "colab": {}
      },
      "source": [
        "path='/gdrive/My Drive/natural images/fruit/natural_images/fruit'"
      ],
      "execution_count": 0,
      "outputs": []
    },
    {
      "cell_type": "code",
      "metadata": {
        "id": "gQDoBIGAKL-M",
        "colab_type": "code",
        "colab": {}
      },
      "source": [
        "imgpath='My Drive/natural images/fruit/natural_images/fruit/fruit_0037.jpg'\n",
        "img=cv2.imread(imgpath)\n",
        "cv2_imshow(img)\n",
        "cv2.waitkey(0)\n",
        "cv2.destroyAllWindows()"
      ],
      "execution_count": 0,
      "outputs": []
    },
    {
      "cell_type": "code",
      "metadata": {
        "id": "y9Xxk3BGNuT2",
        "colab_type": "code",
        "colab": {}
      },
      "source": [
        "imgpath='My Drive/natural images/fruit/natural_images/fruit/fruit_0037.jpg'\n",
        "img=cv2.imread(imgpath,cv2.IMREAD_GRAYSCALE)\n",
        "resized=cv2.resize(img,(50,50))\n",
        "plt.imshow(resized)\n",
        "cv2.waitkey(0)\n",
        "cv2.destroyAllWindows()"
      ],
      "execution_count": 0,
      "outputs": []
    },
    {
      "cell_type": "code",
      "metadata": {
        "id": "bxbmNZRmPEOy",
        "colab_type": "code",
        "colab": {}
      },
      "source": [
        "os.listdir"
      ],
      "execution_count": 0,
      "outputs": []
    },
    {
      "cell_type": "code",
      "metadata": {
        "id": "lHMgwJFBP7Se",
        "colab_type": "code",
        "colab": {}
      },
      "source": [
        "fruit/fruit_0037.jpg"
      ],
      "execution_count": 0,
      "outputs": []
    },
    {
      "cell_type": "code",
      "metadata": {
        "id": "V8qqdlSnS5Pq",
        "colab_type": "code",
        "colab": {}
      },
      "source": [
        "from google.colab import drive\n",
        "drive.mount('/gdrive')"
      ],
      "execution_count": 0,
      "outputs": []
    },
    {
      "cell_type": "code",
      "metadata": {
        "id": "8_ZNrjr4QbiD",
        "colab_type": "code",
        "colab": {}
      },
      "source": [
        " for img in tqdm(os.listdir(path)):\n",
        "  img=cv2.imread(os.path.join(path,img),cv2.IMREAD_GRAYSCALE)\n",
        "  resized=cv2.resize(img,(50,50))\n",
        "  plt.imshow(resized)\n",
        "  #cv2.waitkey(0)\n",
        "  #cv2.destroyAllWindows()\n",
        "  break\n"
      ],
      "execution_count": 0,
      "outputs": []
    },
    {
      "cell_type": "code",
      "metadata": {
        "id": "q7f9VXKMQ0SS",
        "colab_type": "code",
        "colab": {}
      },
      "source": [
        " for img in tqdm(os.listdir(path)):\n",
        "  img=cv2.imread(os.path.join(path,img))\n",
        "  resized=cv2.resize(img,(50,50))\n",
        "  plt.imshow(resized)\n",
        "  #cv2.namedWindow('lena',cv2.WINDOW_AUTOSIZE)\n",
        "  #cv2.waitkey(0)\n",
        "  #cv2.destroyAllWindows('LENA')\n",
        "  break\n"
      ],
      "execution_count": 0,
      "outputs": []
    },
    {
      "cell_type": "code",
      "metadata": {
        "id": "fmKzyfEETTgB",
        "colab_type": "code",
        "colab": {}
      },
      "source": [
        " for img in tqdm(os.listdir(path)):\n",
        "  img=cv2.imread(os.path.join(path,img),0)#IF You put 0 or cv2.imread_grayscale\n",
        "  resized=cv2.resize(img,(50,50))\n",
        "  plt.imshow(resized)\n",
        "  print(img.dtype)\n",
        "\n",
        "  #cv2.imwrite('location you want to save',resizes)\n",
        "  #cv2.namedWindow('lena',cv2.WINDOW_AUTOSIZE)\n",
        "  #cv2.waitkey(0)\n",
        "  #cv2.destroyAllWindows('LENA')\n",
        "  break\n"
      ],
      "execution_count": 0,
      "outputs": []
    },
    {
      "cell_type": "code",
      "metadata": {
        "id": "2Xc0HUWgVhcp",
        "colab_type": "code",
        "colab": {}
      },
      "source": [
        "print(img.dtype)"
      ],
      "execution_count": 0,
      "outputs": []
    },
    {
      "cell_type": "code",
      "metadata": {
        "id": "3TeS6mvR672n",
        "colab_type": "code",
        "colab": {}
      },
      "source": [
        "img.shape"
      ],
      "execution_count": 0,
      "outputs": []
    },
    {
      "cell_type": "code",
      "metadata": {
        "id": "6Khf5Fgj7Bh4",
        "colab_type": "code",
        "colab": {}
      },
      "source": [
        "img.ndim"
      ],
      "execution_count": 0,
      "outputs": []
    },
    {
      "cell_type": "code",
      "metadata": {
        "id": "YCIYILjl7IQ2",
        "colab_type": "code",
        "colab": {}
      },
      "source": [
        "img.size"
      ],
      "execution_count": 0,
      "outputs": []
    },
    {
      "cell_type": "code",
      "metadata": {
        "id": "RnF3h2yi7W9S",
        "colab_type": "code",
        "colab": {}
      },
      "source": [
        "s=img.size//1000\n",
        "s"
      ],
      "execution_count": 0,
      "outputs": []
    },
    {
      "cell_type": "code",
      "metadata": {
        "id": "XV9T7uHu71Z6",
        "colab_type": "code",
        "colab": {}
      },
      "source": [
        "im=np.zeros((512,512,3),np.uint8)\n",
        "plt.imshow(im)"
      ],
      "execution_count": 0,
      "outputs": []
    },
    {
      "cell_type": "code",
      "metadata": {
        "id": "1o-BD85X-FRJ",
        "colab_type": "code",
        "colab": {}
      },
      "source": [
        "im2=np.ones((100,100,3),np.uint8)\n",
        "plt.imshow(im2)"
      ],
      "execution_count": 0,
      "outputs": []
    },
    {
      "cell_type": "code",
      "metadata": {
        "id": "lKFjOtNW-YlI",
        "colab_type": "code",
        "colab": {}
      },
      "source": [
        "im3=np.ones((512,512,3),np.uint8)\n",
        "plt.imshow(im3)"
      ],
      "execution_count": 0,
      "outputs": []
    },
    {
      "cell_type": "code",
      "metadata": {
        "id": "7eNwzW5i-rvN",
        "colab_type": "code",
        "colab": {}
      },
      "source": [
        "cv2.line(im3,(0,99),(99,0),(255,0,0),5)\n",
        "plt.imshow(im3)"
      ],
      "execution_count": 0,
      "outputs": []
    },
    {
      "cell_type": "code",
      "metadata": {
        "id": "6TVSLKlm_1mQ",
        "colab_type": "code",
        "colab": {}
      },
      "source": [
        "cv2.line(im3,(0,300),(300,500),(0,255,0),5)\n",
        "plt.imshow(im3)"
      ],
      "execution_count": 0,
      "outputs": []
    },
    {
      "cell_type": "code",
      "metadata": {
        "id": "pT36T-oaAMhd",
        "colab_type": "code",
        "colab": {}
      },
      "source": [
        "cv2.line(im2,(0,300),(300,500),(0,255,0),5)\n",
        "plt.imshow(im2)"
      ],
      "execution_count": 0,
      "outputs": []
    },
    {
      "cell_type": "code",
      "metadata": {
        "id": "TvoE1EcHAl9S",
        "colab_type": "code",
        "colab": {}
      },
      "source": [
        "im3=np.ones((512,512,3),np.uint8)\n",
        "cv2.line(im3,(0,300),(300,500),(0,255,0),5)\n",
        "plt.imshow(im3)\n"
      ],
      "execution_count": 0,
      "outputs": []
    },
    {
      "cell_type": "code",
      "metadata": {
        "id": "BjujWV4nBhRG",
        "colab_type": "code",
        "colab": {}
      },
      "source": [
        "im3=np.ones((512,512,3),np.uint8)\n",
        "cv2.line(im3,(100,300),(400,500),(0,255,0),5)\n",
        "plt.imshow(im3)\n"
      ],
      "execution_count": 0,
      "outputs": []
    },
    {
      "cell_type": "code",
      "metadata": {
        "id": "xNFChRGNB0iv",
        "colab_type": "code",
        "colab": {}
      },
      "source": [
        "im3=np.ones((512,512,3),np.uint8)\n",
        "cv2.line(im3,(0,0),(100,500),(0,255,0),5)\n",
        "plt.imshow(im3)\n"
      ],
      "execution_count": 0,
      "outputs": []
    },
    {
      "cell_type": "code",
      "metadata": {
        "id": "B-hKi4_jCAG7",
        "colab_type": "code",
        "colab": {}
      },
      "source": [
        "im3=np.ones((512,512,3),np.uint8)\n",
        "cv2.line(im3,(0,300),(500,300),(0,255,0),5,)\n",
        "plt.imshow(im3)\n"
      ],
      "execution_count": 0,
      "outputs": []
    },
    {
      "cell_type": "code",
      "metadata": {
        "id": "qMozssZQCv28",
        "colab_type": "code",
        "colab": {}
      },
      "source": [
        "im3=np.ones((512,512,3),np.uint8)\n",
        "cv2.line(im3,(300,500),(300,100),(0,255,0),5,)\n",
        "plt.imshow(im3)\n"
      ],
      "execution_count": 0,
      "outputs": []
    },
    {
      "cell_type": "code",
      "metadata": {
        "id": "zkvVAV2UD3GC",
        "colab_type": "code",
        "colab": {}
      },
      "source": [
        "im3=np.ones((512,512,3),np.uint8)\n",
        "cv2.line(im3,(300,500),(300,100),(0,255,0),5,)\n",
        "plt.imshow(im3)\n"
      ],
      "execution_count": 0,
      "outputs": []
    },
    {
      "cell_type": "code",
      "metadata": {
        "id": "TKx6Dhw5EAeQ",
        "colab_type": "code",
        "colab": {}
      },
      "source": [
        "im3=np.ones((512,512,3),np.uint8)\n",
        "cv2.line(im3,(300,500),(300,0),(0,255,0),5,)\n",
        "plt.imshow(im3)\n"
      ],
      "execution_count": 0,
      "outputs": []
    },
    {
      "cell_type": "code",
      "metadata": {
        "id": "CXI2qDJlEJYw",
        "colab_type": "code",
        "colab": {}
      },
      "source": [
        "im3=np.ones((512,512,3),np.uint8)\n",
        "cv2.line(im3,(0,200),(500,200),(0,255,0),5,)\n",
        "plt.imshow(im3)\n"
      ],
      "execution_count": 0,
      "outputs": []
    },
    {
      "cell_type": "code",
      "metadata": {
        "id": "s8O-EGPvEYkY",
        "colab_type": "code",
        "colab": {}
      },
      "source": [
        "im3=np.ones((512,512,3),np.uint8)\n",
        "cv2.line(im3,(0,100),(500,100),(0,255,0),5,)\n",
        "plt.imshow(im3)\n"
      ],
      "execution_count": 0,
      "outputs": []
    },
    {
      "cell_type": "code",
      "metadata": {
        "id": "amgfAtvtFNI8",
        "colab_type": "code",
        "colab": {}
      },
      "source": [
        "im3=np.ones((512,512,3),np.uint8)\n",
        "cv2.line(im3,(0,0),(0,500),(0,255,0),5,)\n",
        "plt.imshow(im3)\n"
      ],
      "execution_count": 0,
      "outputs": []
    },
    {
      "cell_type": "code",
      "metadata": {
        "id": "8goqvtFAFhPS",
        "colab_type": "code",
        "colab": {}
      },
      "source": [
        "im3=np.ones((512,512,3),np.uint8)\n",
        "cv2.line(im3,(0,0),(500,0),(0,255,0),5,)\n",
        "plt.imshow(im3)\n"
      ],
      "execution_count": 0,
      "outputs": []
    },
    {
      "cell_type": "code",
      "metadata": {
        "id": "ci9pzr0oFpn8",
        "colab_type": "code",
        "colab": {}
      },
      "source": [
        "im3=np.ones((512,512,3),np.uint8)\n",
        "cv2.line(im3,(0,0),(500,500),(0,255,0),5,)\n",
        "plt.imshow(im3)\n"
      ],
      "execution_count": 0,
      "outputs": []
    },
    {
      "cell_type": "code",
      "metadata": {
        "id": "vhgsJw-xGC5o",
        "colab_type": "code",
        "colab": {}
      },
      "source": [
        "im3=np.ones((512,512,3),np.uint8)\n",
        "cv2.line(im3,(0,500),(500,0),(0,255,0),5,)\n",
        "plt.imshow(im3)\n"
      ],
      "execution_count": 0,
      "outputs": []
    },
    {
      "cell_type": "code",
      "metadata": {
        "id": "YJh8qiK2GMWX",
        "colab_type": "code",
        "colab": {}
      },
      "source": [
        "im3=(np.ones((512,512,3),np.uint8)\n",
        "cv2.line(im3,(0,0),(500,500),(255,0,0),5,)\n",
        "cv2.line(im3,(0,500),(500,0),(0,255,0),5,)\n",
        "plt.imshow(im3)"
      ],
      "execution_count": 0,
      "outputs": []
    },
    {
      "cell_type": "code",
      "metadata": {
        "id": "-VQQC__dHM3x",
        "colab_type": "code",
        "colab": {}
      },
      "source": [
        "im3=np.ones((512,512,3),np.uint8)\n",
        "cv2.line(im3,(0,0),(500,500),(0,255,0),5,)\n",
        "cv2.line(im3,(0,500),(500,0),(0,255,0),5,)\n",
        "cv2.line(im3,(250,500),(250,0),(0,0,255),5)\n",
        "cv2.line(im3,(0,250),(500,250),(0,0,255),5)\n",
        "plt.imshow(im3)\n"
      ],
      "execution_count": 0,
      "outputs": []
    },
    {
      "cell_type": "code",
      "metadata": {
        "id": "MG7UqNPTHvIM",
        "colab_type": "code",
        "colab": {}
      },
      "source": [
        "im3=np.ones((512,512,3),np.uint8)\n",
        "cv2.rectangle(im3,(20,20),(60,60),(0,255,0),5,)\n",
        "plt.imshow(im3)\n"
      ],
      "execution_count": 0,
      "outputs": []
    },
    {
      "cell_type": "code",
      "metadata": {
        "id": "V778WxcIMyEs",
        "colab_type": "code",
        "colab": {}
      },
      "source": [
        "im3=np.ones((512,512,3),np.uint8)\n",
        "cv2.rectangle(im3,(20,0),(60,60),(0,255,0),5,)\n",
        "plt.imshow(im3)\n",
        "K=cv2.waitKey(0)\n",
        "if k ==27:\n",
        "  cv2.destroyAllWindows()\n",
        "elif k == ord('s'):\n",
        "  cv2.imwrite('iiii',im3)\n",
        "  cv2.destroyAllWindows()\n",
        "\n"
      ],
      "execution_count": 0,
      "outputs": []
    },
    {
      "cell_type": "code",
      "metadata": {
        "id": "H_YRlishNS1t",
        "colab_type": "code",
        "colab": {}
      },
      "source": [
        "cap=cv2.VideoCapture(0)\n",
        "while(True):\n",
        "  ret,frame=cap.read()\n",
        "  cv2_imshow(frame)\n",
        "  if cv2.waitKey(1)&0xff == ord('q'):\n",
        "    break\n",
        "cap.release()\n",
        "cv2.destroyAllWindows()"
      ],
      "execution_count": 0,
      "outputs": []
    },
    {
      "cell_type": "code",
      "metadata": {
        "id": "Y88HvCMDidj_",
        "colab_type": "code",
        "colab": {}
      },
      "source": [
        ""
      ],
      "execution_count": 0,
      "outputs": []
    }
  ]
}